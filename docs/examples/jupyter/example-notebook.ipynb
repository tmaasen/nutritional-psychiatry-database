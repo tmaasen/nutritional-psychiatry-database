{
 "cells": [
  {
   "cell_type": "markdown",
   "metadata": {},
   "source": [
    "# Exploring the Nutritional Psychiatry Dataset\n",
    "\n",
    "This notebook demonstrates how to load, analyze, and visualize data from the Nutritional Psychiatry Dataset."
   ]
  },
  {
   "cell_type": "code",
   "execution_count": null,
   "metadata": {},
   "source": [
    "# Import required libraries\n",
    "import os\n",
    "import json\n",
    "import glob\n",
    "import pandas as pd\n",
    "import numpy as np\n",
    "import matplotlib.pyplot as plt\n",
    "import seaborn as sns\n",
    "\n",
    "# Set plotting style\n",
    "plt.style.use('ggplot')\n",
    "sns.set_palette(\"viridis\")\n",
    "sns.set_context(\"notebook\")\n",
    "\n",
    "%matplotlib inline"
   ]
  },
  {
   "cell_type": "markdown",
   "metadata": {},
   "source": [
    "## 1. Loading the Dataset\n",
    "\n",
    "First, let's load the dataset from the JSON files."
   ]
  },
  {
   "cell_type": "code",
   "execution_count": null,
   "metadata": {},
   "source": [
    "def load_food_data(directory):\n",
    "    \"\"\"Load all food data files from a directory into a list of dictionaries.\"\"\"\n",
    "    food_data = []\n",
    "    \n",
    "    files = glob.glob(os.path.join(directory, \"*.json\"))\n",
    "    print(f\"Found {len(files)} food data files\")\n",
    "    \n",
    "    for file_path in files:\n",
    "        try:\n",
    "            with open(file_path, 'r') as f:\n",
    "                data = json.load(f)\n",
    "                food_data.append(data)\n",
    "        except Exception as e:\n",
    "            print(f\"Error loading {file_path}: {e}\")\n",
    "    \n",
    "    return food_data\n",
    "\n",
    "# Update this path to your data directory\n",
    "data_directory = \"../../../data/enriched/ai_generated\"\n",
    "foods = load_food_data(data_directory)"
   ]
  },
  {
   "cell_type": "markdown",
   "metadata": {},
   "source": [
    "## 2. Basic Dataset Exploration"
   ]
  },
  {
   "cell_type": "code",
   "execution_count": null,
   "metadata": {},
   "source": [
    "# Basic statistics about the dataset\n",
    "print(f\"Total number of foods: {len(foods)}\")\n",
    "\n",
    "# Count foods by category\n",
    "categories = {}\n",
    "for food in foods:\n",
    "    category = food.get(\"category\", \"Unknown\")\n",
    "    categories[category] = categories.get(category, 0) + 1\n",
    "\n",
    "# Display category counts\n",
    "categories_df = pd.DataFrame(list(categories.items()), columns=[\"Category\", \"Count\"])\n",
    "categories_df.sort_values(\"Count\", ascending=False, inplace=True)\n",
    "categories_df"
   ]
  },
  {
   "cell_type": "code",
   "execution_count": null,
   "metadata": {},
   "source": [
    "# Visualize food categories\n",
    "plt.figure(figsize=(10, 6))\n",
    "ax = sns.barplot(x=\"Count\", y=\"Category\", data=categories_df)\n",
    "plt.title(\"Number of Foods by Category\")\n",
    "plt.tight_layout()\n",
    "plt.show()"
   ]
  },
  {
   "cell_type": "markdown",
   "metadata": {},
   "source": [
    "## 3. Extracting Nutrients for Analysis\n",
    "\n",
    "Now let's extract specific nutrients from the dataset and create a DataFrame for easier analysis."
   ]
  },
  {
   "cell_type": "code",
   "execution_count": null,
   "metadata": {},
   "source": [
    "def extract_nutrients(foods):\n",
    "    \"\"\"Extract key nutrients from the food data into a pandas DataFrame.\"\"\"\n",
    "    data = []\n",
    "    \n",
    "    for food in foods:\n",
    "        # Basic food info\n",
    "        food_info = {\n",
    "            \"food_id\": food.get(\"food_id\", \"\"),\n",
    "            \"name\": food.get(\"name\", \"\"),\n",
    "            \"category\": food.get(\"category\", \"\"),\n",
    "        }\n",
    "        \n",
    "        # Extract standard nutrients\n",
    "        std_nutrients = food.get(\"standard_nutrients\", {})\n",
    "        for key in [\"calories\", \"protein_g\", \"carbohydrates_g\", \"fat_g\", \"fiber_g\", \"sugars_g\"]:\n",
    "            food_info[key] = std_nutrients.get(key, None)\n",
    "        \n",
    "        # Extract brain nutrients\n",
    "        brain_nutrients = food.get(\"brain_nutrients\", {})\n",
    "        for key in [\"tryptophan_mg\", \"tyrosine_mg\", \"vitamin_b6_mg\", \"folate_mcg\", \n",
    "                    \"vitamin_b12_mcg\", \"vitamin_d_mcg\", \"magnesium_mg\", \"zinc_mg\", \"iron_mg\", \"selenium_mcg\"]:\n",
    "            food_info[key] = brain_nutrients.get(key, None)\n",
    "        \n",
    "        # Extract omega-3 data\n",
    "        omega3 = brain_nutrients.get(\"omega3\", {})\n",
    "        food_info[\"omega3_total_g\"] = omega3.get(\"total_g\", None)\n",
    "        food_info[\"omega3_epa_mg\"] = omega3.get(\"epa_mg\", None)\n",
    "        food_info[\"omega3_dha_mg\"] = omega3.get(\"dha_mg\", None)\n",
    "        food_info[\"omega3_ala_mg\"] = omega3.get(\"ala_mg\", None)\n",
    "        \n",
    "        # Extract bioactive compounds\n",
    "        bioactive = food.get(\"bioactive_compounds\", {})\n",
    "        for key in [\"polyphenols_mg\", \"flavonoids_mg\", \"anthocyanins_mg\", \"carotenoids_mg\"]:\n",
    "            food_info[key] = bioactive.get(key, None)\n",
    "        \n",
    "        data.append(food_info)\n",
    "    \n",
    "    return pd.DataFrame(data)\n",
    "\n",
    "# Create DataFrame\n",
    "nutrients_df = extract_nutrients(foods)\n",
    "nutrients_df.head()"
   ]
  },
  {
   "cell_type": "code",
   "execution_count": null,
   "metadata": {},
   "source": [
    "# Basic summary statistics\n",
    "nutrients_df.describe()"
   ]
  },
  {
   "cell_type": "markdown",
   "metadata": {},
   "source": [
    "## 4. Analyzing Brain Nutrients\n",
    "\n",
    "Let's look at the distribution of key brain nutrients across food categories."
   ]
  },
  {
   "cell_type": "code",
   "execution_count": null,
   "metadata": {},
   "source": [
    "# Calculate mean tryptophan by category\n",
    "tryptophan_by_category = nutrients_df.groupby('category')['tryptophan_mg'].mean().sort_values(ascending=False)\n",
    "\n",
    "plt.figure(figsize=(12, 6))\n",
    "ax = sns.barplot(x=tryptophan_by_category.index, y=tryptophan_by_category.values)\n",
    "plt.title(\"Average Tryptophan Content by Food Category\")\n",
    "plt.xlabel(\"Food Category\")\n",
    "plt.ylabel(\"Tryptophan (mg per 100g)\")\n",
    "plt.xticks(rotation=45, ha='right')\n",
    "plt.tight_layout()\n",
    "plt.show()"
   ]
  },
  {
   "cell_type": "code",
   "execution_count": null,
   "metadata": {},
   "source": [
    "# Let's look at omega-3 distribution\n",
    "plt.figure(figsize=(12, 6))\n",
    "\n",
    "# Filter out entries with null values\n",
    "omega3_data = nutrients_df.dropna(subset=['omega3_total_g'])\n",
    "\n",
    "# Get top 15 foods by omega-3 content\n",
    "top_omega3 = omega3_data.sort_values('omega3_total_g', ascending=False).head(15)\n",
    "\n",
    "# Plot\n",
    "ax = sns.barplot(x='name', y='omega3_total_g', data=top_omega3)\n",
    "plt.title(\"Top 15 Foods by Omega-3 Content\")\n",
    "plt.xlabel(\"Food\")\n",
    "plt.ylabel(\"Omega-3 (g per 100g)\")\n",
    "plt.xticks(rotation=45, ha='right')\n",
    "plt.tight_layout()\n",
    "plt.show()"
   ]
  },
  {
   "cell_type": "markdown",
   "metadata": {},
   "source": [
    "## 5. Exploring Mental Health Impacts\n",
    "\n",
    "Now let's analyze the mental health impacts associated with different foods."
   ]
  },
  {
   "cell_type": "code",
   "execution_count": null,
   "metadata": {},
   "source": [
    "def extract_mental_health_impacts(foods):\n",
    "    \"\"\"Extract mental health impacts into a DataFrame for analysis.\"\"\"\n",
    "    impacts = []\n",
    "    \n",
    "    for food in foods:\n",
    "        food_name = food.get(\"name\", \"\")\n",
    "        food_category = food.get(\"category\", \"\")\n",
    "        food_impacts = food.get(\"mental_health_impacts\", [])\n",
    "        \n",
    "        for impact in food_impacts:\n",
    "            impact_data = {\n",
    "                \"food_name\": food_name,\n",
    "                \"food_category\": food_category,\n",
    "                \"impact_type\": impact.get(\"impact_type\", \"\"),\n",
    "                \"direction\": impact.get(\"direction\", \"\"),\n",
    "                \"strength\": impact.get(\"strength\", 0),\n",
    "                \"confidence\": impact.get(\"confidence\", 0),\n",
    "                \"time_to_effect\": impact.get(\"time_to_effect\", \"\"),\n",
    "                \"research_context\": impact.get(\"research_context\", \"\"),\n",
    "                \"research_support_count\": len(impact.get(\"research_support\", []))\n",
    "            }\n",
    "            impacts.append(impact_data)\n",
    "    \n",
    "    return pd.DataFrame(impacts)\n",
    "\n",
    "# Create impacts DataFrame\n",
    "impacts_df = extract_mental_health_impacts(foods)\n",
    "impacts_df.head()"
   ]
  },
  {
   "cell_type": "code",
   "execution_count": null,
   "metadata": {},
   "source": [
    "# Count by impact type\n",
    "impact_counts = impacts_df[\"impact_type\"].value_counts()\n",
    "\n",
    "plt.figure(figsize=(12, 6))\n",
    "sns.barplot(x=impact_counts.index, y=impact_counts.values)\n",
    "plt.title(\"Types of Mental Health Impacts in the Dataset\")\n",
    "plt.xlabel(\"Impact Type\")\n",
    "plt.ylabel(\"Count\")\n",
    "plt.xticks(rotation=45, ha='right')\n",
    "plt.tight_layout()\n",
    "plt.show()"
   ]
  },
  {
   "cell_type": "code",
   "execution_count": null,
   "metadata": {},
   "source": [
    "# Plot strength vs confidence for impacts\n",
    "plt.figure(figsize=(10, 8))\n",
    "sns.scatterplot(x=\"confidence\", y=\"strength\", hue=\"impact_type\", \n",
    "                size=\"research_support_count\", sizes=(20, 200),\n",
    "                data=impacts_df)\n",
    "\n",
    "plt.title(\"Strength vs. Confidence of Mental Health Impacts\")\n",
    "plt.xlabel(\"Confidence Rating (1-10)\")\n",
    "plt.ylabel(\"Strength of Effect (1-10)\")\n",
    "plt.legend(bbox_to_anchor=(1.05, 1), loc='upper left')\n",
    "plt.grid(True)\n",
    "plt.tight_layout()\n",
    "plt.show()"
   ]
  },
  {
   "cell_type": "markdown",
   "metadata": {},
   "source": [
    "## 6. Finding Foods for Specific Mental Health Goals\n",
    "\n",
    "Now let's create a function to identify foods that might help with specific mental health goals."
   ]
  },
  {
   "cell_type": "code",
   "execution_count": null,
   "metadata": {},
   "source": [
    "def find_foods_for_mental_health_goal(impact_type, direction=\"positive\", min_strength=5, min_confidence=5):\n",
    "    \"\"\"Find foods with specific mental health impacts.\"\"\"\n",
    "    # Filter impacts\n",
    "    filtered_impacts = impacts_df[\n",
    "        (impacts_df[\"impact_type\"] == impact_type) &\n",
    "        (impacts_df[\"direction\"] == direction) &\n",
    "        (impacts_df[\"strength\"] >= min_strength) &\n",
    "        (impacts_df[\"confidence\"] >= min_confidence)\n",
    "    ].sort_values([\"strength\", \"confidence\"], ascending=False)\n",
    "    \n",
    "    return filtered_impacts[[\"food_name\", \"food_category\", \"strength\", \"confidence\", \"time_to_effect\"]]\n",
    "\n",
    "# Example: Foods for anxiety reduction\n",
    "anxiety_reduction_foods = find_foods_for_mental_health_goal(\"anxiety_reduction\")\n",
    "anxiety_reduction_foods.head(10)"
   ]
  },
  {
   "cell_type": "code",
   "execution_count": null,
   "metadata": {},
   "source": [
    "# Example: Foods for cognitive enhancement\n",
    "cognitive_enhancement_foods = find_foods_for_mental_health_goal(\"cognitive_enhancement\")\n",
    "cognitive_enhancement_foods.head(10)"
   ]
  },
  {
   "cell_type": "markdown",
   "metadata": {},
   "source": [
    "## 7. Correlations Between Nutrients and Mental Health Impacts\n",
    "\n",
    "Let's explore correlations between specific nutrients and mental health impacts."
   ]
  },
  {
   "cell_type": "code",
   "execution_count": null,
   "metadata": {},
   "source": [
    "# First, create a combined dataset of nutrients and top impacts\n",
    "def create_impact_nutrients_dataset():\n",
    "    combined_data = []\n",
    "    \n",
    "    # Loop through foods\n",
    "    for food in foods:\n",
    "        food_name = food.get(\"name\", \"\")\n",
    "        \n",
    "        # Get key nutrients\n",
    "        std_nutrients = food.get(\"standard_nutrients\", {})\n",
    "        brain_nutrients = food.get(\"brain_nutrients\", {})\n",
    "        bioactive = food.get(\"bioactive_compounds\", {})\n",
    "        omega3 = brain_nutrients.get(\"omega3\", {})\n",
    "        \n",
    "        # Get top impact (by strength × confidence) for each impact type\n",
    "        impacts = food.get(\"mental_health_impacts\", [])\n",
    "        \n",
    "        # Skip foods without impacts\n",
    "        if not impacts:\n",
    "            continue\n",
    "            \n",
    "        # Calculate impact scores (strength × confidence)\n",
    "        for impact in impacts:\n",
    "            impact_score = impact.get(\"strength\", 0) * impact.get(\"confidence\", 0)\n",
    "            impact[\"score\"] = impact_score\n",
    "        \n",
    "        # Find top impact by score\n",
    "        top_impact = max(impacts, key=lambda x: x.get(\"score\", 0))\n",
    "        \n",
    "        # Create a record\n",
    "        record = {\n",
    "            \"food_name\": food_name,\n",
    "            \"category\": food.get(\"category\", \"\"),\n",
    "            \n",
    "            # Nutrients\n",
    "            \"tryptophan_mg\": brain_nutrients.get(\"tryptophan_mg\", None),\n",
    "            \"omega3_total_g\": omega3.get(\"total_g\", None),\n",
    "            \"vitamin_b12_mcg\": brain_nutrients.get(\"vitamin_b12_mcg\", None),\n",
    "            \"magnesium_mg\": brain_nutrients.get(\"magnesium_mg\", None),\n",
    "            \"polyphenols_mg\": bioactive.get(\"polyphenols_mg\", None),\n",
    "            \"fiber_g\": std_nutrients.get(\"fiber_g\", None),\n",
    "            \n",
    "            # Impact\n",
    "            \"impact_type\": top_impact.get(\"impact_type\", \"\"),\n",
    "            \"impact_direction\": top_impact.get(\"direction\", \"\"),\n",
    "            \"impact_strength\": top_impact.get(\"strength\", 0),\n",
    "            \"impact_confidence\": top_impact.get(\"confidence\", 0),\n",
    "            \"impact_score\": top_impact.get(\"score\", 0)\n",
    "        }\n",
    "        \n",
    "        combined_data.append(record)\n",
    "    \n",
    "    return pd.DataFrame(combined_data)\n",
    "\n",
    "# Create combined dataset\n",
    "combined_df = create_impact_nutrients_dataset()\n",
    "combined_df.head()"
   ]
  },
  {
   "cell_type": "code",
   "execution_count": null,
   "metadata": {},
   "source": [
    "# Calculate correlations between nutrients and impact strength for positive impacts\n",
    "positive_impacts = combined_df[combined_df[\"impact_direction\"] == \"positive\"]\n",
    "\n",
    "# Get correlation matrix for key nutrients and impact strength\n",
    "nutrient_columns = [\"tryptophan_mg\", \"omega3_total_g\", \"vitamin_b12_mcg\", \"magnesium_mg\", \"polyphenols_mg\", \"fiber_g\"]\n",
    "correlations = positive_impacts[nutrient_columns + [\"impact_strength\"]].corr()\n",
    "\n",
    "# Plot correlation heatmap\n",
    "plt.figure(figsize=(10, 8))\n",
    "sns.heatmap(correlations, annot=True, cmap=\"coolwarm\", vmin=-1, vmax=1)\n",
    "plt.title(\"Correlations Between Nutrients and Positive Impact Strength\")\n",
    "plt.tight_layout()\n",
    "plt.show()"
   ]
  },
  {
   "cell_type": "markdown",
   "metadata": {},
   "source": [
    "## 8. Creating a Food Recommendation Engine\n",
    "\n",
    "Finally, let's create a simple recommendation engine to suggest foods for specific health goals."
   ]
  },
  {
   "cell_type": "code",
   "execution_count": null,
   "metadata": {},
   "source": [
    "def recommend_foods(goal, top_n=5):\n",
    "    \"\"\"Recommend foods for a specific mental health goal.\"\"\"\n",
    "    # Map goals to impact types\n",
    "    goal_mapping = {\n",
    "        \"mood\": \"mood_elevation\",\n",
    "        \"anxiety\": \"anxiety_reduction\",\n",
    "        \"cognition\": \"cognitive_enhancement\",\n",
    "        \"energy\": \"energy_increase\",\n",
    "        \"stress\": \"stress_reduction\",\n",
    "        \"sleep\": \"sleep_improvement\"\n",
    "    }\n",
    "    \n",
    "    impact_type = goal_mapping.get(goal.lower())\n",
    "    if not impact_type:\n",
    "        print(f\"Unknown goal: {goal}. Available goals: {', '.join(goal_mapping.keys())}\")\n",
    "        return None\n",
    "    \n",
    "    # Find foods with the desired impact\n",
    "    recommendations = find_foods_for_mental_health_goal(\n",
    "        impact_type=impact_type,\n",
    "        direction=\"positive\",\n",
    "        min_strength=6,\n",
    "        min_confidence=5\n",
    "    ).head(top_n)\n",
    "    \n",
    "    return recommendations\n",
    "\n",
    "# Example: Recommend foods for anxiety reduction\n",
    "anxiety_recommendations = recommend_foods(\"anxiety\", top_n=10)\n",
    "anxiety_recommendations"
   ]
  },
  {
   "cell_type": "code",
   "execution_count": null,
   "metadata": {},
   "source": [
    "# Visualize recommendations\n",
    "def plot_recommendations(recommendations, goal):\n",
    "    plt.figure(figsize=(12, 6))\n",
    "    \n",
    "    # Create a compound score (strength × confidence)\n",
    "    recommendations[\"score\"] = recommendations[\"strength\"] * recommendations[\"confidence\"]\n",
    "    \n",
    "    # Sort by score\n",
    "    recommendations = recommendations.sort_values(\"score\", ascending=False)\n",
    "    \n",
    "    # Plot\n",
    "    ax = sns.barplot(x=\"food_name\", y=\"score\", data=recommendations, hue=\"food_category\")\n",
    "    plt.title(f\"Top Food Recommendations for {goal.title()}\")\n",
    "    plt.xlabel(\"Food\")\n",
    "    plt.ylabel(\"Recommendation Score (Strength × Confidence)\")\n",
    "    plt.xticks(rotation=45, ha='right')\n",
    "    plt.legend(title=\"Food Category\")\n",
    "    plt.tight_layout()\n",
    "    plt.show()\n",
    "\n",
    "# Plot anxiety recommendations\n",
    "plot_recommendations(anxiety_recommendations, \"anxiety\")"
   ]
  },
  {
   "cell_type": "code",
   "execution_count": null,
   "metadata": {},
   "source": [
    "# Example: Recommend foods for cognitive enhancement\n",
    "cognition_recommendations = recommend_foods(\"cognition\")\n",
    "plot_recommendations(cognition_recommendations, \"cognition\")"
   ]
  },
  {
   "cell_type": "markdown",
   "metadata": {},
   "source": [
    "## 9. Conclusion\n",
    "\n",
    "In this notebook, we've explored the Nutritional Psychiatry Dataset by:\n",
    "\n",
    "1. Loading and examining basic dataset statistics\n",
    "2. Analyzing brain-specific nutrients across food categories\n",
    "3. Exploring mental health impacts and their distribution\n",
    "4. Finding correlations between nutrients and mental health effects\n",
    "5. Creating a simple food recommendation engine\n",
    "\n",
    "This demonstrates the potential of the dataset for various applications in nutritional psychiatry, dietary planning, and wellness applications."
   ]
  }
 ],
 "metadata": {
  "kernelspec": {
   "display_name": "Python 3",
   "language": "python",
   "name": "python3"
  },
  "language_info": {
   "codemirror_mode": {
    "name": "ipython",
    "version": 3
   },
   "file_extension": ".py",
   "mimetype": "text/x-python",
   "name": "python",
   "nbconvert_exporter": "python",
   "pygments_lexer": "ipython3",
   "version": "3.8.10"
  }
 },
 "nbformat": 4,
 "nbformat_minor": 4
}
